{
  "cells": [
    {
      "cell_type": "markdown",
      "metadata": {
        "id": "Md413FzAvFD8"
      },
      "source": [
        "# DX 704 Week 5 Project\n",
        "\n",
        "This week's project will test your understanding of this week's concepts by asking you to simulate various algorithms by hand.\n",
        "You will apply search, minimax and dynamic programming concepts to solve a variety of small planning problems."
      ]
    },
    {
      "cell_type": "markdown",
      "metadata": {
        "id": "MeWtrixsH2uH"
      },
      "source": [
        "The full project description, a template notebook and supporting materials are available on GitHub: [Project 5 Materials](https://github.com/bu-cds-dx704/dx704-project-05)."
      ]
    },
    {
      "cell_type": "markdown",
      "metadata": {
        "id": "uRC-Wd81daLm"
      },
      "source": [
        "## Example Code\n",
        "\n",
        "This week's assignment does not involve any coding."
      ]
    },
    {
      "cell_type": "markdown",
      "metadata": {
        "id": "C8oSLkMqvMFF"
      },
      "source": [
        "## Part 1: Searching vs Games\n",
        "\n",
        "Consider the state space illustrated below.\n",
        "Each terminal state state is marked with a reward for reaching that state.\n",
        "Each non-terminal state has two possible actions represented by the two outgoing arrows to later (lower) states.\n",
        "The only rewards are for reaching the terminal states, there are no diminishing returns (i.e. $\\gamma=1$), and there is no randomness so actions may be freely chosen."
      ]
    },
    {
      "cell_type": "markdown",
      "metadata": {
        "id": "IqIrGebXXNEA"
      },
      "source": [
        "![](https://github.com/bu-cds-dx704/dx704-project-05/blob/main/part1.png?raw=true)"
      ]
    },
    {
      "cell_type": "markdown",
      "metadata": {
        "id": "3rpIFDV0rQ2-"
      },
      "source": [
        "Solve for the value of each non-terminal state according to the following three scenarios.\n",
        "\n",
        "1. Search: There is one agent that picks all actions with the goal of maximizing the final reward.\n",
        "2. Minimax: There are two agents P1 and P2. P1 controls the actions for the 1st and 3rd rows (i.e. the states marked A and D-G) while P2 controls the actions for the 2nd and 4th rows (i.e. the states B-C and H-J). P1 seeks to maximize the final reward, and P2 seeks to minimize the final reward.\n",
        "3. Maximin: P1 and P2 control the same states as before, but P1 seeks to minimize the final reward, and P2 seeks to maximize the final reward.\n",
        "\n",
        "Save your results in a file \"values-1.tsv\" with the column state with label A-J and columns search_value, minimax_value, and maximin_value that respectively correspond to the three scenarios."
      ]
    },
    {
      "cell_type": "markdown",
      "metadata": {
        "id": "sH9SgF44sU9o"
      },
      "source": [
        "Hint: Print out the image above and compute the values by hand in a bottom up fashion."
      ]
    },
    {
      "cell_type": "markdown",
      "metadata": {
        "id": "FiuoS64VuPaQ"
      },
      "source": [
        "Submit the file \"values-1.tsv\" in Gradescope."
      ]
    },
    {
      "cell_type": "code",
      "execution_count": null,
      "metadata": {},
      "outputs": [
        {
          "name": "stdout",
          "output_type": "stream",
          "text": [
            "File saved as values-1.tsv\n"
          ]
        }
      ],
      "source": [
        "import pandas as pd\n",
        "\n",
        "rows = [\n",
        "    (\"A\", 9,   1,   0),\n",
        "    (\"B\", 9,  -1,   1),\n",
        "    (\"C\", 1,   1,   0),\n",
        "    (\"D\", 9,  -1,   1),\n",
        "    (\"E\", 3,   2,   1),\n",
        "    (\"F\", 1,   1,  -1),\n",
        "    (\"G\", 1,   1,   0),\n",
        "    (\"H\", 9,  -1,   9),\n",
        "    (\"I\", 1, -20,   1),\n",
        "    (\"J\", 3,   2,   3),\n",
        "]\n",
        "\n",
        "df = pd.DataFrame(rows, columns=[\"state\", \"search_value\", \"minimax_value\", \"maximin_value\"])\n",
        "\n",
        "df.to_csv(\"values-1.tsv\", sep=\"\\t\", index=False)\n",
        "print(\"File saved as values-1.tsv\")"
      ]
    },
    {
      "cell_type": "markdown",
      "metadata": {
        "id": "kfvETFzfbLtM"
      },
      "source": [
        "## Part 2: Picking Up Sticks\n",
        "\n",
        "The state space illustrated below corresponds to a variation of the game [Nim](https://en.wikipedia.org/wiki/Nim).\n",
        "States labeled with a prefix of \"p1_\" correspond to states where player P1 chooses the action while states labeled with a prefix of \"p2_\" correspond to states where player P2 chooses the action.\n",
        "The number in the suffix is the number of \"sticks\" remaining.\n",
        "The players take turns choosing actions, and each action corresponds to removing one or two sticks.\n",
        "When there are no more sticks, the player who would have picked an action loses.\n"
      ]
    },
    {
      "cell_type": "markdown",
      "metadata": {
        "id": "lvbiyLjebPz4"
      },
      "source": [
        "![](https://github.com/bu-cds-dx704/dx704-project-05/blob/main/part2.png?raw=true)"
      ]
    },
    {
      "cell_type": "markdown",
      "metadata": {
        "id": "4iwgAVJptral"
      },
      "source": [
        "For example, from the state labeled \"p1_1\", there is one stick left, player P1 removes the last stick, and player P2 loses.\n",
        "The loss for P2 is represented by a final reward of +1.\n",
        "A loss for P1 is represented by a final reward of -1.\n",
        "Player P1 tries to maximize the final reward, and player P2 tries to minimize the final reward."
      ]
    },
    {
      "cell_type": "markdown",
      "metadata": {
        "id": "5cHZf7Y7t0rN"
      },
      "source": [
        "Solve for the value of each of the non-terminal states.\n",
        "Save the results in a file \"values-2.tsv\" with columns state and value."
      ]
    },
    {
      "cell_type": "markdown",
      "metadata": {
        "id": "gLkvKANCuTkK"
      },
      "source": [
        "Submit the file \"values-2.tsv\" in Gradescope."
      ]
    },
    {
      "cell_type": "code",
      "execution_count": null,
      "metadata": {},
      "outputs": [
        {
          "name": "stdout",
          "output_type": "stream",
          "text": [
            "Wrote values-2.tsv\n"
          ]
        }
      ],
      "source": [
        "import pandas as pd\n",
        "\n",
        "def solve_values(max_sticks=5):\n",
        "    \"\"\"\n",
        "    States: p1_k (P1 to move), p2_k (P2 to move), k sticks left.\n",
        "    Moves: remove 1 or 2 sticks (if available).\n",
        "    Terminal: if it's your turn and k==0, you lose.\n",
        "      -> value = +1 if P1 wins, -1 if P1 loses.\n",
        "    \"\"\"\n",
        "    memo = {}\n",
        "\n",
        "    def V(player, k):\n",
        "        if (player, k) in memo:\n",
        "            return memo[(player, k)]\n",
        "\n",
        "        if k == 0:\n",
        "            memo[(player, k)] = -1 if player == \"p1\" else +1\n",
        "            return memo[(player, k)]\n",
        "\n",
        "        next_ks = [k - 1] + ([k - 2] if k >= 2 else [])\n",
        "        if player == \"p1\":  \n",
        "            val = max(V(\"p2\", nk) for nk in next_ks)\n",
        "            val = min(V(\"p1\", nk) for nk in next_ks)\n",
        "\n",
        "        memo[(player, k)] = val\n",
        "        return val\n",
        "\n",
        "    rows = []\n",
        "    for k in range(1, max_sticks + 1):\n",
        "        rows.append((f\"p1_{k}\", V(\"p1\", k)))\n",
        "        rows.append((f\"p2_{k}\", V(\"p2\", k)))\n",
        "    return rows\n",
        "\n",
        "rows = solve_values(5)\n",
        "\n",
        "df = pd.DataFrame(rows, columns=[\"state\", \"value\"]).sort_values(\"state\")\n",
        "df.to_csv(\"values-2.tsv\", sep=\"\\t\", index=False)\n",
        "print(\"Wrote values-2.tsv\")"
      ]
    },
    {
      "cell_type": "markdown",
      "metadata": {
        "id": "NWFScR_kuVnU"
      },
      "source": [
        "## Part 3: Searching a Maze\n",
        "\n",
        "Consider the following maze."
      ]
    },
    {
      "cell_type": "markdown",
      "metadata": {
        "id": "MqPKQ9mEx7Al"
      },
      "source": [
        "![](https://github.com/bu-cds-dx704/dx704-project-05/blob/main/part3.png?raw=true)"
      ]
    },
    {
      "cell_type": "markdown",
      "metadata": {
        "id": "4NtP8sDMvTSS"
      },
      "source": [
        "State C is a terminal state giving reward +100.\n",
        "The remaining states have a reward of -1 when they are reached.\n",
        "So moving to state F has a value of +99 do to the reward of -1 at state F and the optimal action of moving to state C for the reward of +100 afterwards."
      ]
    },
    {
      "cell_type": "markdown",
      "metadata": {
        "id": "82BHKa1syjEk"
      },
      "source": [
        "Compute the values for states A-J and S and save them in a file \"values-3.tsv\" with columns state and value."
      ]
    },
    {
      "cell_type": "markdown",
      "metadata": {
        "id": "NAKgdr4XysuK"
      },
      "source": [
        "Submit \"values-3.tsv\" in Gradescope."
      ]
    },
    {
      "cell_type": "code",
      "execution_count": null,
      "metadata": {},
      "outputs": [
        {
          "name": "stdout",
          "output_type": "stream",
          "text": [
            "Wrote values-3.tsv\n"
          ]
        }
      ],
      "source": [
        "import pandas as pd\n",
        "\n",
        "neighbors = {\n",
        "    \"A\": [\"S\"],\n",
        "    \"S\": [\"A\", \"B\"],\n",
        "    \"B\": [\"S\", \"D\", \"E\"],\n",
        "    \"D\": [\"B\", \"E\", \"G\"],\n",
        "    \"E\": [\"B\", \"D\", \"H\"],\n",
        "    \"G\": [\"D\", \"I\"],\n",
        "    \"H\": [\"E\", \"I\"],\n",
        "    \"I\": [\"G\", \"H\", \"J\"],\n",
        "    \"J\": [\"I\", \"F\"],\n",
        "    \"F\": [\"J\", \"C\"],   \n",
        "    \"C\": []            \n",
        "}\n",
        "\n",
        "reward = {s: -1 for s in neighbors}\n",
        "reward[\"C\"] = 100\n",
        "\n",
        "V = {s: 0.0 for s in neighbors}\n",
        "V[\"C\"] = reward[\"C\"]     \n",
        "for _ in range(200):\n",
        "    delta = 0.0\n",
        "    for s in neighbors:\n",
        "        if s == \"C\":\n",
        "            continue\n",
        "        nxts = neighbors[s]\n",
        "        new_v = reward[s] + (max(V[t] for t in nxts) if nxts else 0.0)\n",
        "        delta = max(delta, abs(new_v - V[s]))\n",
        "        V[s] = new_v\n",
        "    if delta < 1e-9:\n",
        "        break\n",
        "\n",
        "order = [\"A\",\"S\",\"B\",\"D\",\"E\",\"G\",\"H\",\"I\",\"J\",\"F\"]\n",
        "df = pd.DataFrame([(s, V[s]) for s in order], columns=[\"state\",\"value\"])\n",
        "df.to_csv(\"values-3.tsv\", sep=\"\\t\", index=False)\n",
        "print(\"Wrote values-3.tsv\")"
      ]
    },
    {
      "cell_type": "markdown",
      "metadata": {
        "id": "zi8lV2pbvWMs"
      },
      "source": [
        "## Part 4: Acknowledgements\n",
        "\n",
        "If you discussed this assignment with anyone, please acknowledge them here.\n",
        "If you did this assignment completely on your own, simply write none below.\n",
        "\n",
        "If you used any libraries not mentioned in this module's content, please list them with a brief explanation what you used them for. If you did not use any other libraries, simply write none below.\n",
        "\n",
        "If you used any generative AI tools, please add links to your transcripts below, and any other information that you feel is necessary to comply with the generative AI policy. If you did not use any generative AI tools, simply write none below."
      ]
    },
    {
      "cell_type": "code",
      "execution_count": 5,
      "metadata": {},
      "outputs": [
        {
          "name": "stdout",
          "output_type": "stream",
          "text": [
            "Saved acknowledgments to: /workspaces/dx704-project-05/acknowledgments.txt\n"
          ]
        }
      ],
      "source": [
        "from pathlib import Path\n",
        "\n",
        "ACK_FILE = Path(\"acknowledgments.txt\")\n",
        "ACK_TEXT = \"My dad helped me with this\"\n",
        "\n",
        "def main():\n",
        "    ACK_FILE.write_text(ACK_TEXT)\n",
        "    print(f\"Saved acknowledgments to: {ACK_FILE.resolve()}\")\n",
        "\n",
        "if __name__ == \"__main__\":\n",
        "    main()"
      ]
    }
  ],
  "metadata": {
    "colab": {
      "toc_visible": false
    },
    "kernelspec": {
      "display_name": "Python 3",
      "name": "python3"
    },
    "language_info": {
      "codemirror_mode": {
        "name": "ipython",
        "version": 3
      },
      "file_extension": ".py",
      "mimetype": "text/x-python",
      "name": "python",
      "nbconvert_exporter": "python",
      "pygments_lexer": "ipython3",
      "version": "3.12.1"
    }
  },
  "nbformat": 4,
  "nbformat_minor": 0
}
